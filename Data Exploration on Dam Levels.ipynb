{
 "cells": [
  {
   "cell_type": "code",
   "execution_count": 35,
   "metadata": {
    "collapsed": true
   },
   "outputs": [],
   "source": [
    "import pandas as pd\n",
    "\n",
    "import matplotlib.pyplot as plt\n",
    "%matplotlib inline\n",
    "\n",
    "import seaborn as sns"
   ]
  },
  {
   "cell_type": "code",
   "execution_count": 36,
   "metadata": {},
   "outputs": [
    {
     "data": {
      "text/html": [
       "<div>\n",
       "<style>\n",
       "    .dataframe thead tr:only-child th {\n",
       "        text-align: right;\n",
       "    }\n",
       "\n",
       "    .dataframe thead th {\n",
       "        text-align: left;\n",
       "    }\n",
       "\n",
       "    .dataframe tbody tr th {\n",
       "        vertical-align: top;\n",
       "    }\n",
       "</style>\n",
       "<table border=\"1\" class=\"dataframe\">\n",
       "  <thead>\n",
       "    <tr style=\"text-align: right;\">\n",
       "      <th></th>\n",
       "      <th>t_date</th>\n",
       "      <th>month_year</th>\n",
       "      <th>t_month</th>\n",
       "      <th>t_year</th>\n",
       "      <th>dam_name</th>\n",
       "      <th>dam_class</th>\n",
       "      <th>Max_dam_capacity_ML</th>\n",
       "      <th>height_m</th>\n",
       "      <th>storage_ml</th>\n",
       "      <th>percentage_capacity</th>\n",
       "    </tr>\n",
       "  </thead>\n",
       "  <tbody>\n",
       "    <tr>\n",
       "      <th>0</th>\n",
       "      <td>01/01/2012</td>\n",
       "      <td>Jan-12</td>\n",
       "      <td>1</td>\n",
       "      <td>2012</td>\n",
       "      <td>ALEXANDRA</td>\n",
       "      <td>Minor Dam</td>\n",
       "      <td>134</td>\n",
       "      <td>10.64</td>\n",
       "      <td>99.9</td>\n",
       "      <td>74.55</td>\n",
       "    </tr>\n",
       "    <tr>\n",
       "      <th>1</th>\n",
       "      <td>02/01/2012</td>\n",
       "      <td>Jan-12</td>\n",
       "      <td>1</td>\n",
       "      <td>2012</td>\n",
       "      <td>ALEXANDRA</td>\n",
       "      <td>Minor Dam</td>\n",
       "      <td>134</td>\n",
       "      <td>10.61</td>\n",
       "      <td>99.2</td>\n",
       "      <td>74.03</td>\n",
       "    </tr>\n",
       "    <tr>\n",
       "      <th>2</th>\n",
       "      <td>03/01/2012</td>\n",
       "      <td>Jan-12</td>\n",
       "      <td>1</td>\n",
       "      <td>2012</td>\n",
       "      <td>ALEXANDRA</td>\n",
       "      <td>Minor Dam</td>\n",
       "      <td>134</td>\n",
       "      <td>10.59</td>\n",
       "      <td>98.7</td>\n",
       "      <td>73.66</td>\n",
       "    </tr>\n",
       "    <tr>\n",
       "      <th>3</th>\n",
       "      <td>04/01/2012</td>\n",
       "      <td>Jan-12</td>\n",
       "      <td>1</td>\n",
       "      <td>2012</td>\n",
       "      <td>ALEXANDRA</td>\n",
       "      <td>Minor Dam</td>\n",
       "      <td>134</td>\n",
       "      <td>10.61</td>\n",
       "      <td>99.2</td>\n",
       "      <td>74.03</td>\n",
       "    </tr>\n",
       "    <tr>\n",
       "      <th>4</th>\n",
       "      <td>05/01/2012</td>\n",
       "      <td>Jan-12</td>\n",
       "      <td>1</td>\n",
       "      <td>2012</td>\n",
       "      <td>ALEXANDRA</td>\n",
       "      <td>Minor Dam</td>\n",
       "      <td>134</td>\n",
       "      <td>10.60</td>\n",
       "      <td>98.9</td>\n",
       "      <td>73.81</td>\n",
       "    </tr>\n",
       "  </tbody>\n",
       "</table>\n",
       "</div>"
      ],
      "text/plain": [
       "       t_date month_year  t_month  t_year   dam_name  dam_class  \\\n",
       "0  01/01/2012     Jan-12        1    2012  ALEXANDRA  Minor Dam   \n",
       "1  02/01/2012     Jan-12        1    2012  ALEXANDRA  Minor Dam   \n",
       "2  03/01/2012     Jan-12        1    2012  ALEXANDRA  Minor Dam   \n",
       "3  04/01/2012     Jan-12        1    2012  ALEXANDRA  Minor Dam   \n",
       "4  05/01/2012     Jan-12        1    2012  ALEXANDRA  Minor Dam   \n",
       "\n",
       "   Max_dam_capacity_ML  height_m  storage_ml  percentage_capacity  \n",
       "0                  134     10.64        99.9                74.55  \n",
       "1                  134     10.61        99.2                74.03  \n",
       "2                  134     10.59        98.7                73.66  \n",
       "3                  134     10.61        99.2                74.03  \n",
       "4                  134     10.60        98.9                73.81  "
      ]
     },
     "execution_count": 36,
     "metadata": {},
     "output_type": "execute_result"
    }
   ],
   "source": [
    "# Read in the dam levels dataset into Pandas dataframe and encode it correctly\n",
    "df = pd.read_csv('dam_levels.csv', encoding='latin-1')\n",
    "\n",
    "# Drop unneccesarry columns\n",
    "df = df.drop('dam_stats_key', axis=1)\n",
    "\n",
    "# Look at first few entries\n",
    "df.head()"
   ]
  },
  {
   "cell_type": "code",
   "execution_count": 37,
   "metadata": {},
   "outputs": [
    {
     "data": {
      "text/html": [
       "<div>\n",
       "<style>\n",
       "    .dataframe thead tr:only-child th {\n",
       "        text-align: right;\n",
       "    }\n",
       "\n",
       "    .dataframe thead th {\n",
       "        text-align: left;\n",
       "    }\n",
       "\n",
       "    .dataframe tbody tr th {\n",
       "        vertical-align: top;\n",
       "    }\n",
       "</style>\n",
       "<table border=\"1\" class=\"dataframe\">\n",
       "  <thead>\n",
       "    <tr style=\"text-align: right;\">\n",
       "      <th></th>\n",
       "      <th>t_month</th>\n",
       "      <th>t_year</th>\n",
       "      <th>Max_dam_capacity_ML</th>\n",
       "      <th>height_m</th>\n",
       "      <th>storage_ml</th>\n",
       "      <th>percentage_capacity</th>\n",
       "    </tr>\n",
       "  </thead>\n",
       "  <tbody>\n",
       "    <tr>\n",
       "      <th>count</th>\n",
       "      <td>30688.000000</td>\n",
       "      <td>30688.000000</td>\n",
       "      <td>30688.000000</td>\n",
       "      <td>29379.000000</td>\n",
       "      <td>29369.000000</td>\n",
       "      <td>29369.000000</td>\n",
       "    </tr>\n",
       "    <tr>\n",
       "      <th>mean</th>\n",
       "      <td>6.523266</td>\n",
       "      <td>2014.499544</td>\n",
       "      <td>64466.071429</td>\n",
       "      <td>20.045011</td>\n",
       "      <td>43952.810807</td>\n",
       "      <td>68.476959</td>\n",
       "    </tr>\n",
       "    <tr>\n",
       "      <th>std</th>\n",
       "      <td>3.449033</td>\n",
       "      <td>1.708209</td>\n",
       "      <td>125871.449837</td>\n",
       "      <td>12.294530</td>\n",
       "      <td>90450.095894</td>\n",
       "      <td>27.058157</td>\n",
       "    </tr>\n",
       "    <tr>\n",
       "      <th>min</th>\n",
       "      <td>1.000000</td>\n",
       "      <td>2012.000000</td>\n",
       "      <td>128.000000</td>\n",
       "      <td>0.000000</td>\n",
       "      <td>-0.000200</td>\n",
       "      <td>0.000000</td>\n",
       "    </tr>\n",
       "    <tr>\n",
       "      <th>25%</th>\n",
       "      <td>4.000000</td>\n",
       "      <td>2013.000000</td>\n",
       "      <td>242.000000</td>\n",
       "      <td>10.160000</td>\n",
       "      <td>168.000000</td>\n",
       "      <td>49.080000</td>\n",
       "    </tr>\n",
       "    <tr>\n",
       "      <th>50%</th>\n",
       "      <td>7.000000</td>\n",
       "      <td>2014.500000</td>\n",
       "      <td>1128.000000</td>\n",
       "      <td>17.380000</td>\n",
       "      <td>928.000000</td>\n",
       "      <td>71.300000</td>\n",
       "    </tr>\n",
       "    <tr>\n",
       "      <th>75%</th>\n",
       "      <td>10.000000</td>\n",
       "      <td>2016.000000</td>\n",
       "      <td>58644.000000</td>\n",
       "      <td>27.250000</td>\n",
       "      <td>38271.000000</td>\n",
       "      <td>94.730000</td>\n",
       "    </tr>\n",
       "    <tr>\n",
       "      <th>max</th>\n",
       "      <td>12.000000</td>\n",
       "      <td>2017.000000</td>\n",
       "      <td>480188.000000</td>\n",
       "      <td>53.420000</td>\n",
       "      <td>526630.000000</td>\n",
       "      <td>112.050000</td>\n",
       "    </tr>\n",
       "  </tbody>\n",
       "</table>\n",
       "</div>"
      ],
      "text/plain": [
       "            t_month        t_year  Max_dam_capacity_ML      height_m  \\\n",
       "count  30688.000000  30688.000000         30688.000000  29379.000000   \n",
       "mean       6.523266   2014.499544         64466.071429     20.045011   \n",
       "std        3.449033      1.708209        125871.449837     12.294530   \n",
       "min        1.000000   2012.000000           128.000000      0.000000   \n",
       "25%        4.000000   2013.000000           242.000000     10.160000   \n",
       "50%        7.000000   2014.500000          1128.000000     17.380000   \n",
       "75%       10.000000   2016.000000         58644.000000     27.250000   \n",
       "max       12.000000   2017.000000        480188.000000     53.420000   \n",
       "\n",
       "          storage_ml  percentage_capacity  \n",
       "count   29369.000000         29369.000000  \n",
       "mean    43952.810807            68.476959  \n",
       "std     90450.095894            27.058157  \n",
       "min        -0.000200             0.000000  \n",
       "25%       168.000000            49.080000  \n",
       "50%       928.000000            71.300000  \n",
       "75%     38271.000000            94.730000  \n",
       "max    526630.000000           112.050000  "
      ]
     },
     "execution_count": 37,
     "metadata": {},
     "output_type": "execute_result"
    }
   ],
   "source": [
    "#use the decribe() method to look at the summary stats for the numerical variables\n",
    "df.describe()"
   ]
  },
  {
   "cell_type": "code",
   "execution_count": 38,
   "metadata": {},
   "outputs": [
    {
     "data": {
      "text/plain": [
       "<bound method DataFrame.info of            t_date month_year  t_month  t_year   dam_name  dam_class  \\\n",
       "0      01/01/2012     Jan-12        1    2012  ALEXANDRA  Minor Dam   \n",
       "1      02/01/2012     Jan-12        1    2012  ALEXANDRA  Minor Dam   \n",
       "2      03/01/2012     Jan-12        1    2012  ALEXANDRA  Minor Dam   \n",
       "3      04/01/2012     Jan-12        1    2012  ALEXANDRA  Minor Dam   \n",
       "4      05/01/2012     Jan-12        1    2012  ALEXANDRA  Minor Dam   \n",
       "5      06/01/2012     Jan-12        1    2012  ALEXANDRA  Minor Dam   \n",
       "6      07/01/2012     Jan-12        1    2012  ALEXANDRA  Minor Dam   \n",
       "7      08/01/2012     Jan-12        1    2012  ALEXANDRA  Minor Dam   \n",
       "8      09/01/2012     Jan-12        1    2012  ALEXANDRA  Minor Dam   \n",
       "9      10/01/2012     Jan-12        1    2012  ALEXANDRA  Minor Dam   \n",
       "10     11/01/2012     Jan-12        1    2012  ALEXANDRA  Minor Dam   \n",
       "11     12/01/2012     Jan-12        1    2012  ALEXANDRA  Minor Dam   \n",
       "12     13/01/2012     Jan-12        1    2012  ALEXANDRA  Minor Dam   \n",
       "13     14/01/2012     Jan-12        1    2012  ALEXANDRA  Minor Dam   \n",
       "14     15/01/2012     Jan-12        1    2012  ALEXANDRA  Minor Dam   \n",
       "15     16/01/2012     Jan-12        1    2012  ALEXANDRA  Minor Dam   \n",
       "16     17/01/2012     Jan-12        1    2012  ALEXANDRA  Minor Dam   \n",
       "17     18/01/2012     Jan-12        1    2012  ALEXANDRA  Minor Dam   \n",
       "18     19/01/2012     Jan-12        1    2012  ALEXANDRA  Minor Dam   \n",
       "19     20/01/2012     Jan-12        1    2012  ALEXANDRA  Minor Dam   \n",
       "20     21/01/2012     Jan-12        1    2012  ALEXANDRA  Minor Dam   \n",
       "21     22/01/2012     Jan-12        1    2012  ALEXANDRA  Minor Dam   \n",
       "22     23/01/2012     Jan-12        1    2012  ALEXANDRA  Minor Dam   \n",
       "23     24/01/2012     Jan-12        1    2012  ALEXANDRA  Minor Dam   \n",
       "24     25/01/2012     Jan-12        1    2012  ALEXANDRA  Minor Dam   \n",
       "25     26/01/2012     Jan-12        1    2012  ALEXANDRA  Minor Dam   \n",
       "26     27/01/2012     Jan-12        1    2012  ALEXANDRA  Minor Dam   \n",
       "27     28/01/2012     Jan-12        1    2012  ALEXANDRA  Minor Dam   \n",
       "28     29/01/2012     Jan-12        1    2012  ALEXANDRA  Minor Dam   \n",
       "29     30/01/2012     Jan-12        1    2012  ALEXANDRA  Minor Dam   \n",
       "...           ...        ...      ...     ...        ...        ...   \n",
       "30658  02/12/2017     Dec-17       12    2017   WOODHEAD  Minor Dam   \n",
       "30659  03/12/2017     Dec-17       12    2017   WOODHEAD  Minor Dam   \n",
       "30660  04/12/2017     Dec-17       12    2017   WOODHEAD  Minor Dam   \n",
       "30661  05/12/2017     Dec-17       12    2017   WOODHEAD  Minor Dam   \n",
       "30662  06/12/2017     Dec-17       12    2017   WOODHEAD  Minor Dam   \n",
       "30663  07/12/2017     Dec-17       12    2017   WOODHEAD  Minor Dam   \n",
       "30664  08/12/2017     Dec-17       12    2017   WOODHEAD  Minor Dam   \n",
       "30665  09/12/2017     Dec-17       12    2017   WOODHEAD  Minor Dam   \n",
       "30666  10/12/2017     Dec-17       12    2017   WOODHEAD  Minor Dam   \n",
       "30667  11/12/2017     Dec-17       12    2017   WOODHEAD  Minor Dam   \n",
       "30668  12/12/2017     Dec-17       12    2017   WOODHEAD  Minor Dam   \n",
       "30669  13/12/2017     Dec-17       12    2017   WOODHEAD  Minor Dam   \n",
       "30670  14/12/2017     Dec-17       12    2017   WOODHEAD  Minor Dam   \n",
       "30671  15/12/2017     Dec-17       12    2017   WOODHEAD  Minor Dam   \n",
       "30672  16/12/2017     Dec-17       12    2017   WOODHEAD  Minor Dam   \n",
       "30673  17/12/2017     Dec-17       12    2017   WOODHEAD  Minor Dam   \n",
       "30674  18/12/2017     Dec-17       12    2017   WOODHEAD  Minor Dam   \n",
       "30675  19/12/2017     Dec-17       12    2017   WOODHEAD  Minor Dam   \n",
       "30676  20/12/2017     Dec-17       12    2017   WOODHEAD  Minor Dam   \n",
       "30677  21/12/2017     Dec-17       12    2017   WOODHEAD  Minor Dam   \n",
       "30678  22/12/2017     Dec-17       12    2017   WOODHEAD  Minor Dam   \n",
       "30679  23/12/2017     Dec-17       12    2017   WOODHEAD  Minor Dam   \n",
       "30680  24/12/2017     Dec-17       12    2017   WOODHEAD  Minor Dam   \n",
       "30681  25/12/2017     Dec-17       12    2017   WOODHEAD  Minor Dam   \n",
       "30682  26/12/2017     Dec-17       12    2017   WOODHEAD  Minor Dam   \n",
       "30683  27/12/2017     Dec-17       12    2017   WOODHEAD  Minor Dam   \n",
       "30684  28/12/2017     Dec-17       12    2017   WOODHEAD  Minor Dam   \n",
       "30685  29/12/2017     Dec-17       12    2017   WOODHEAD  Minor Dam   \n",
       "30686  30/12/2017     Dec-17       12    2017   WOODHEAD  Minor Dam   \n",
       "30687  31/12/2017     Dec-17       12    2017   WOODHEAD  Minor Dam   \n",
       "\n",
       "       Max_dam_capacity_ML  height_m  storage_ml  percentage_capacity  \n",
       "0                      134     10.64        99.9                74.55  \n",
       "1                      134     10.61        99.2                74.03  \n",
       "2                      134     10.59        98.7                73.66  \n",
       "3                      134     10.61        99.2                74.03  \n",
       "4                      134     10.60        98.9                73.81  \n",
       "5                      134     10.58        98.5                73.51  \n",
       "6                      134     10.55        97.7                72.91  \n",
       "7                      134     10.53        97.3                72.61  \n",
       "8                      134     10.51        96.8                72.24  \n",
       "9                      134     10.47        95.8                71.49  \n",
       "10                     134     10.45        95.4                71.19  \n",
       "11                     134     10.44        95.1                70.97  \n",
       "12                     134     10.41        94.4                70.45  \n",
       "13                     134     10.39        93.9                70.07  \n",
       "14                     134     10.36        93.2                69.55  \n",
       "15                     134     10.34        92.8                69.25  \n",
       "16                     134     10.32        92.3                68.88  \n",
       "17                     134     10.29        91.6                68.36  \n",
       "18                     134     10.26        90.9                67.84  \n",
       "19                     134     10.24        90.4                67.46  \n",
       "20                     134     10.20        89.4                66.72  \n",
       "21                     134     10.18        88.9                66.34  \n",
       "22                     134     10.15        88.2                65.82  \n",
       "23                     134     10.15        88.2                65.82  \n",
       "24                     134     10.15        88.2                65.82  \n",
       "25                     134     10.13        87.8                65.52  \n",
       "26                     134     10.09        86.8                64.78  \n",
       "27                     134     10.08        86.6                64.63  \n",
       "28                     134     10.05        85.9                64.10  \n",
       "29                     134     10.00        84.7                63.21  \n",
       "...                    ...       ...         ...                  ...  \n",
       "30658                  955     36.23       835.7                87.51  \n",
       "30659                  955     36.07       818.0                85.65  \n",
       "30660                  955     36.15       826.8                86.58  \n",
       "30661                  955     36.40       854.8                89.51  \n",
       "30662                  955     36.43       858.4                89.88  \n",
       "30663                  955     36.47       863.1                90.38  \n",
       "30664                  955     36.48       864.3                90.50  \n",
       "30665                  955     36.49       865.5                90.63  \n",
       "30666                  955     36.49       865.5                90.63  \n",
       "30667                  955     36.54       871.3                91.24  \n",
       "30668                  955     36.55       872.5                91.36  \n",
       "30669                  955     36.56       873.7                91.49  \n",
       "30670                  955     36.57       874.8                91.60  \n",
       "30671                  955     36.57       874.8                91.60  \n",
       "30672                  955     36.57       874.8                91.60  \n",
       "30673                  955     36.58       876.0                91.73  \n",
       "30674                  955     36.58       876.0                91.73  \n",
       "30675                  955     36.58       876.0                91.73  \n",
       "30676                  955     36.57       874.8                91.60  \n",
       "30677                  955     36.56       873.7                91.49  \n",
       "30678                  955     36.55       872.5                91.36  \n",
       "30679                  955     36.55       872.5                91.36  \n",
       "30680                  955     36.55       872.5                91.36  \n",
       "30681                  955     36.54       871.3                91.24  \n",
       "30682                  955     36.54       871.3                91.24  \n",
       "30683                  955     36.54       871.3                91.24  \n",
       "30684                  955     36.53       870.2                91.12  \n",
       "30685                  955     36.53       870.2                91.12  \n",
       "30686                  955     36.52       869.0                90.99  \n",
       "30687                  955     36.55       872.5                91.36  \n",
       "\n",
       "[30688 rows x 10 columns]>"
      ]
     },
     "execution_count": 38,
     "metadata": {},
     "output_type": "execute_result"
    }
   ],
   "source": [
    "#use the info() method to see the total number of rows and columns. \n",
    "#This will also allow us to identify any missing values.\n",
    "\n",
    "df.info"
   ]
  },
  {
   "cell_type": "code",
   "execution_count": 39,
   "metadata": {
    "collapsed": true
   },
   "outputs": [],
   "source": [
    "# use the apply() method together with the lambda expression to divide the percentage capacity by 100 and then round it to 3 numbers.\n",
    "\n",
    "df[\"percentage_capacity\"] = df[\"percentage_capacity\"].apply(lambda x: x/100).round(3)"
   ]
  },
  {
   "cell_type": "code",
   "execution_count": 40,
   "metadata": {},
   "outputs": [
    {
     "data": {
      "text/plain": [
       "0    0.745\n",
       "1    0.740\n",
       "2    0.737\n",
       "3    0.740\n",
       "4    0.738\n",
       "Name: percentage_capacity, dtype: float64"
      ]
     },
     "execution_count": 40,
     "metadata": {},
     "output_type": "execute_result"
    }
   ],
   "source": [
    "#ckecking the values how they look like\n",
    "df[\"percentage_capacity\"].head()"
   ]
  },
  {
   "cell_type": "code",
   "execution_count": 41,
   "metadata": {},
   "outputs": [
    {
     "data": {
      "text/plain": [
       "t_date                 31/12/2017\n",
       "Max_dam_capacity_ML        902525\n",
       "storage_ml                 283787\n",
       "Name: 2190, dtype: object"
      ]
     },
     "execution_count": 41,
     "metadata": {},
     "output_type": "execute_result"
    }
   ],
   "source": [
    "#start by finding the latest date in the data\n",
    "#Then we look at the total dam capacity and storage for that date\n",
    "\n",
    "#Grouping by the date column\n",
    "#Using the sum() method to add up all values for the given date\n",
    "#Sorting the date from newest to oldest\n",
    "#Using the iloc method to take the top entry - which will be the newest date\n",
    "\n",
    "df.groupby('t_date').sum()[['Max_dam_capacity_ML', 'storage_ml']]\\\n",
    "    .reset_index().sort_values(by='t_date', ascending=False).iloc[0]"
   ]
  },
  {
   "cell_type": "code",
   "execution_count": 42,
   "metadata": {},
   "outputs": [
    {
     "data": {
      "text/plain": [
       "14"
      ]
     },
     "execution_count": 42,
     "metadata": {},
     "output_type": "execute_result"
    }
   ],
   "source": [
    "#use the nunique() method to get number of the unique values\n",
    "df['dam_name'].nunique()"
   ]
  },
  {
   "cell_type": "code",
   "execution_count": 43,
   "metadata": {},
   "outputs": [
    {
     "data": {
      "text/html": [
       "<div>\n",
       "<style>\n",
       "    .dataframe thead tr:only-child th {\n",
       "        text-align: right;\n",
       "    }\n",
       "\n",
       "    .dataframe thead th {\n",
       "        text-align: left;\n",
       "    }\n",
       "\n",
       "    .dataframe tbody tr th {\n",
       "        vertical-align: top;\n",
       "    }\n",
       "</style>\n",
       "<table border=\"1\" class=\"dataframe\">\n",
       "  <thead>\n",
       "    <tr style=\"text-align: right;\">\n",
       "      <th></th>\n",
       "      <th>height_m</th>\n",
       "      <th>Max_dam_capacity_ML</th>\n",
       "      <th>storage_ml</th>\n",
       "      <th>percentage_capacity</th>\n",
       "    </tr>\n",
       "    <tr>\n",
       "      <th>dam_name</th>\n",
       "      <th></th>\n",
       "      <th></th>\n",
       "      <th></th>\n",
       "      <th></th>\n",
       "    </tr>\n",
       "  </thead>\n",
       "  <tbody>\n",
       "    <tr>\n",
       "      <th>ALEXANDRA</th>\n",
       "      <td>8.956191</td>\n",
       "      <td>134.0</td>\n",
       "      <td>70.155023</td>\n",
       "      <td>0.523586</td>\n",
       "    </tr>\n",
       "    <tr>\n",
       "      <th>BERG RIVER</th>\n",
       "      <td>34.696597</td>\n",
       "      <td>130010.0</td>\n",
       "      <td>95367.522354</td>\n",
       "      <td>0.733531</td>\n",
       "    </tr>\n",
       "    <tr>\n",
       "      <th>DE VILLIERS</th>\n",
       "      <td>25.580456</td>\n",
       "      <td>242.0</td>\n",
       "      <td>186.086004</td>\n",
       "      <td>0.768979</td>\n",
       "    </tr>\n",
       "    <tr>\n",
       "      <th>HELY-HUTCHINSON</th>\n",
       "      <td>12.673092</td>\n",
       "      <td>925.0</td>\n",
       "      <td>693.671797</td>\n",
       "      <td>0.749916</td>\n",
       "    </tr>\n",
       "    <tr>\n",
       "      <th>KLEINPLAATS</th>\n",
       "      <td>8.826615</td>\n",
       "      <td>1301.0</td>\n",
       "      <td>804.758840</td>\n",
       "      <td>0.618617</td>\n",
       "    </tr>\n",
       "    <tr>\n",
       "      <th>LAND-en ZEEZICHT</th>\n",
       "      <td>4.770339</td>\n",
       "      <td>451.0</td>\n",
       "      <td>282.302077</td>\n",
       "      <td>0.625948</td>\n",
       "    </tr>\n",
       "    <tr>\n",
       "      <th>LEWIS GAY</th>\n",
       "      <td>12.957217</td>\n",
       "      <td>168.0</td>\n",
       "      <td>117.744130</td>\n",
       "      <td>0.700887</td>\n",
       "    </tr>\n",
       "    <tr>\n",
       "      <th>STEENBRAS LOWER</th>\n",
       "      <td>19.156008</td>\n",
       "      <td>33517.0</td>\n",
       "      <td>20969.217153</td>\n",
       "      <td>0.625633</td>\n",
       "    </tr>\n",
       "    <tr>\n",
       "      <th>STEENBRAS UPPER</th>\n",
       "      <td>22.781309</td>\n",
       "      <td>31767.0</td>\n",
       "      <td>26558.341697</td>\n",
       "      <td>0.836021</td>\n",
       "    </tr>\n",
       "    <tr>\n",
       "      <th>THEEWATERSKLOOF</th>\n",
       "      <td>23.066679</td>\n",
       "      <td>480188.0</td>\n",
       "      <td>308693.401460</td>\n",
       "      <td>0.642854</td>\n",
       "    </tr>\n",
       "    <tr>\n",
       "      <th>VICTORIA</th>\n",
       "      <td>4.936638</td>\n",
       "      <td>128.0</td>\n",
       "      <td>89.976624</td>\n",
       "      <td>0.702918</td>\n",
       "    </tr>\n",
       "    <tr>\n",
       "      <th>VOELVLEI</th>\n",
       "      <td>12.643759</td>\n",
       "      <td>164095.0</td>\n",
       "      <td>95212.270073</td>\n",
       "      <td>0.580228</td>\n",
       "    </tr>\n",
       "    <tr>\n",
       "      <th>WEMMERSHOEK</th>\n",
       "      <td>45.510274</td>\n",
       "      <td>58644.0</td>\n",
       "      <td>39278.468522</td>\n",
       "      <td>0.669787</td>\n",
       "    </tr>\n",
       "    <tr>\n",
       "      <th>WOODHEAD</th>\n",
       "      <td>34.971966</td>\n",
       "      <td>955.0</td>\n",
       "      <td>737.913960</td>\n",
       "      <td>0.772667</td>\n",
       "    </tr>\n",
       "  </tbody>\n",
       "</table>\n",
       "</div>"
      ],
      "text/plain": [
       "                   height_m  Max_dam_capacity_ML     storage_ml  \\\n",
       "dam_name                                                          \n",
       "ALEXANDRA          8.956191                134.0      70.155023   \n",
       "BERG RIVER        34.696597             130010.0   95367.522354   \n",
       "DE VILLIERS       25.580456                242.0     186.086004   \n",
       "HELY-HUTCHINSON   12.673092                925.0     693.671797   \n",
       "KLEINPLAATS        8.826615               1301.0     804.758840   \n",
       "LAND-en ZEEZICHT   4.770339                451.0     282.302077   \n",
       "LEWIS GAY         12.957217                168.0     117.744130   \n",
       "STEENBRAS LOWER   19.156008              33517.0   20969.217153   \n",
       "STEENBRAS UPPER   22.781309              31767.0   26558.341697   \n",
       "THEEWATERSKLOOF   23.066679             480188.0  308693.401460   \n",
       "VICTORIA           4.936638                128.0      89.976624   \n",
       "VOELVLEI          12.643759             164095.0   95212.270073   \n",
       "WEMMERSHOEK       45.510274              58644.0   39278.468522   \n",
       "WOODHEAD          34.971966                955.0     737.913960   \n",
       "\n",
       "                  percentage_capacity  \n",
       "dam_name                               \n",
       "ALEXANDRA                    0.523586  \n",
       "BERG RIVER                   0.733531  \n",
       "DE VILLIERS                  0.768979  \n",
       "HELY-HUTCHINSON              0.749916  \n",
       "KLEINPLAATS                  0.618617  \n",
       "LAND-en ZEEZICHT             0.625948  \n",
       "LEWIS GAY                    0.700887  \n",
       "STEENBRAS LOWER              0.625633  \n",
       "STEENBRAS UPPER              0.836021  \n",
       "THEEWATERSKLOOF              0.642854  \n",
       "VICTORIA                     0.702918  \n",
       "VOELVLEI                     0.580228  \n",
       "WEMMERSHOEK                  0.669787  \n",
       "WOODHEAD                     0.772667  "
      ]
     },
     "execution_count": 43,
     "metadata": {},
     "output_type": "execute_result"
    }
   ],
   "source": [
    "#using the mean() method to look at the average\n",
    "df.groupby('dam_name').mean()[['height_m', 'Max_dam_capacity_ML', 'storage_ml', 'percentage_capacity']]"
   ]
  },
  {
   "cell_type": "code",
   "execution_count": 51,
   "metadata": {},
   "outputs": [
    {
     "data": {
      "text/plain": [
       "<matplotlib.axes._subplots.AxesSubplot at 0x225ecf2de48>"
      ]
     },
     "execution_count": 51,
     "metadata": {},
     "output_type": "execute_result"
    },
    {
     "data": {
      "image/png": "[encoded data removed]",
      "text/plain": [
       "<matplotlib.figure.Figure at 0x225ecefbf60>"
      ]
     },
     "metadata": {},
     "output_type": "display_data"
    }
   ],
   "source": [
    "#looking at the total capacity by Dam using the plot() method\n",
    "\n",
    "df.groupby('dam_name').mean()['Max_dam_capacity_ML'].sort_values(ascending=False).plot(kind='bar',\n",
    "                                                                              title='Capacity by Dam in ML',\n",
    "                                                                              figsize=(10,6))"
   ]
  },
  {
   "cell_type": "code",
   "execution_count": 45,
   "metadata": {},
   "outputs": [
    {
     "data": {
      "text/plain": [
       "dam_class\n",
       "Major Dam    6\n",
       "Minor Dam    8\n",
       "Name: dam_name, dtype: int64"
      ]
     },
     "execution_count": 45,
     "metadata": {},
     "output_type": "execute_result"
    }
   ],
   "source": [
    "#So let's group by dam class to see how many of each class there are.\n",
    "\n",
    "df.groupby('dam_class')['dam_name'].nunique()"
   ]
  },
  {
   "cell_type": "code",
   "execution_count": 48,
   "metadata": {},
   "outputs": [
    {
     "data": {
      "text/html": [
       "<div>\n",
       "<style>\n",
       "    .dataframe thead tr:only-child th {\n",
       "        text-align: right;\n",
       "    }\n",
       "\n",
       "    .dataframe thead th {\n",
       "        text-align: left;\n",
       "    }\n",
       "\n",
       "    .dataframe tbody tr th {\n",
       "        vertical-align: top;\n",
       "    }\n",
       "</style>\n",
       "<table border=\"1\" class=\"dataframe\">\n",
       "  <thead>\n",
       "    <tr style=\"text-align: right;\">\n",
       "      <th></th>\n",
       "      <th>height_m</th>\n",
       "      <th>Max_dam_capacity_ML</th>\n",
       "      <th>storage_ml</th>\n",
       "      <th>percentage_capacity</th>\n",
       "    </tr>\n",
       "    <tr>\n",
       "      <th>dam_class</th>\n",
       "      <th></th>\n",
       "      <th></th>\n",
       "      <th></th>\n",
       "      <th></th>\n",
       "    </tr>\n",
       "  </thead>\n",
       "  <tbody>\n",
       "    <tr>\n",
       "      <th>Major Dam</th>\n",
       "      <td>26.307644</td>\n",
       "      <td>149703.5</td>\n",
       "      <td>97679.870210</td>\n",
       "      <td>0.681342</td>\n",
       "    </tr>\n",
       "    <tr>\n",
       "      <th>Minor Dam</th>\n",
       "      <td>14.969839</td>\n",
       "      <td>538.0</td>\n",
       "      <td>380.122562</td>\n",
       "      <td>0.687563</td>\n",
       "    </tr>\n",
       "  </tbody>\n",
       "</table>\n",
       "</div>"
      ],
      "text/plain": [
       "            height_m  Max_dam_capacity_ML    storage_ml  percentage_capacity\n",
       "dam_class                                                                   \n",
       "Major Dam  26.307644             149703.5  97679.870210             0.681342\n",
       "Minor Dam  14.969839                538.0    380.122562             0.687563"
      ]
     },
     "execution_count": 48,
     "metadata": {},
     "output_type": "execute_result"
    }
   ],
   "source": [
    "#It seems like the 6 major dams are where we need to focus the analysis.\n",
    "#To prove this let's look at the difference in the stats for Major Dams vs Minor Dams\n",
    "#Here we just group by dam class.\n",
    "\n",
    "df.groupby('dam_class').mean()[['height_m', 'Max_dam_capacity_ML', 'storage_ml', 'percentage_capacity']]"
   ]
  },
  {
   "cell_type": "code",
   "execution_count": 56,
   "metadata": {},
   "outputs": [
    {
     "data": {
      "text/plain": [
       "<matplotlib.axes._subplots.AxesSubplot at 0x225ecbfd518>"
      ]
     },
     "execution_count": 56,
     "metadata": {},
     "output_type": "execute_result"
    },
    {
     "data": {
      "image/png": "[encoded data removed]",
      "text/plain": [
       "<matplotlib.figure.Figure at 0x225ecf783c8>"
      ]
     },
     "metadata": {},
     "output_type": "display_data"
    }
   ],
   "source": [
    "df[df['dam_class'] == 'Major Dam']\\\n",
    "    .groupby('dam_name').mean()['Max_dam_capacity_ML']\\\n",
    "    .sort_values(ascending=True).plot(\n",
    "        kind='barh',                                        \n",
    "        # bar makes a horizontal bar graph\n",
    "        title='Capacity by Dam in ML',\n",
    "        figsize=(10,6))"
   ]
  },
  {
   "cell_type": "code",
   "execution_count": 57,
   "metadata": {
    "collapsed": true
   },
   "outputs": [],
   "source": [
    "#Let's store the order from the chart above for future charting\n",
    "\n",
    "major_dam_order = list(df[df['dam_class'] == 'Major Dam']\\\n",
    "                            .groupby('dam_name')\\\n",
    "                            .mean()['Max_dam_capacity_ML']\\\n",
    "                            .sort_values(ascending=False).index)"
   ]
  },
  {
   "cell_type": "code",
   "execution_count": 58,
   "metadata": {},
   "outputs": [
    {
     "data": {
      "text/html": [
       "<div>\n",
       "<style>\n",
       "    .dataframe thead tr:only-child th {\n",
       "        text-align: right;\n",
       "    }\n",
       "\n",
       "    .dataframe thead th {\n",
       "        text-align: left;\n",
       "    }\n",
       "\n",
       "    .dataframe tbody tr th {\n",
       "        vertical-align: top;\n",
       "    }\n",
       "</style>\n",
       "<table border=\"1\" class=\"dataframe\">\n",
       "  <thead>\n",
       "    <tr style=\"text-align: right;\">\n",
       "      <th></th>\n",
       "      <th>height_m</th>\n",
       "      <th>Max_dam_capacity_ML</th>\n",
       "      <th>storage_ml</th>\n",
       "      <th>percentage_capacity</th>\n",
       "    </tr>\n",
       "    <tr>\n",
       "      <th>t_year</th>\n",
       "      <th></th>\n",
       "      <th></th>\n",
       "      <th></th>\n",
       "      <th></th>\n",
       "    </tr>\n",
       "  </thead>\n",
       "  <tbody>\n",
       "    <tr>\n",
       "      <th>2012</th>\n",
       "      <td>27.727104</td>\n",
       "      <td>149703.5</td>\n",
       "      <td>111930.370674</td>\n",
       "      <td>0.757864</td>\n",
       "    </tr>\n",
       "    <tr>\n",
       "      <th>2013</th>\n",
       "      <td>29.173582</td>\n",
       "      <td>149703.5</td>\n",
       "      <td>127261.868950</td>\n",
       "      <td>0.840822</td>\n",
       "    </tr>\n",
       "    <tr>\n",
       "      <th>2014</th>\n",
       "      <td>29.695543</td>\n",
       "      <td>149703.5</td>\n",
       "      <td>133870.403653</td>\n",
       "      <td>0.872620</td>\n",
       "    </tr>\n",
       "    <tr>\n",
       "      <th>2015</th>\n",
       "      <td>26.245233</td>\n",
       "      <td>149703.5</td>\n",
       "      <td>96494.457078</td>\n",
       "      <td>0.662750</td>\n",
       "    </tr>\n",
       "    <tr>\n",
       "      <th>2016</th>\n",
       "      <td>23.588174</td>\n",
       "      <td>149703.5</td>\n",
       "      <td>69408.846995</td>\n",
       "      <td>0.530332</td>\n",
       "    </tr>\n",
       "    <tr>\n",
       "      <th>2017</th>\n",
       "      <td>21.421100</td>\n",
       "      <td>149703.5</td>\n",
       "      <td>47151.686301</td>\n",
       "      <td>0.423870</td>\n",
       "    </tr>\n",
       "  </tbody>\n",
       "</table>\n",
       "</div>"
      ],
      "text/plain": [
       "         height_m  Max_dam_capacity_ML     storage_ml  percentage_capacity\n",
       "t_year                                                                    \n",
       "2012    27.727104             149703.5  111930.370674             0.757864\n",
       "2013    29.173582             149703.5  127261.868950             0.840822\n",
       "2014    29.695543             149703.5  133870.403653             0.872620\n",
       "2015    26.245233             149703.5   96494.457078             0.662750\n",
       "2016    23.588174             149703.5   69408.846995             0.530332\n",
       "2017    21.421100             149703.5   47151.686301             0.423870"
      ]
     },
     "execution_count": 58,
     "metadata": {},
     "output_type": "execute_result"
    }
   ],
   "source": [
    "#Now we will look at the dam levels over time for the Major dams. \n",
    "#Because we are only concered about the Major dams, we must filter where dam class is equal to Major Dam. \n",
    "#We then group by year and to look at the averages over time.\n",
    "\n",
    "df[df['dam_class'] == 'Major Dam'].groupby('t_year').mean()[['height_m',\n",
    "                                                             'Max_dam_capacity_ML',\n",
    "                                                             'storage_ml',\n",
    "                                                             'percentage_capacity']]"
   ]
  },
  {
   "cell_type": "code",
   "execution_count": 59,
   "metadata": {},
   "outputs": [
    {
     "data": {
      "text/plain": [
       "<matplotlib.axes._subplots.AxesSubplot at 0x225ecfee4e0>"
      ]
     },
     "execution_count": 59,
     "metadata": {},
     "output_type": "execute_result"
    },
    {
     "data": {
      "image/png": "[encoded data removed]",
      "text/plain": [
       "<matplotlib.figure.Figure at 0x225ecc03668>"
      ]
     },
     "metadata": {},
     "output_type": "display_data"
    }
   ],
   "source": [
    "#looking at the percentage capacity using a line graph.\n",
    "df[df['dam_class'] == 'Major Dam'].groupby('t_year').mean()['percentage_capacity']\\\n",
    ".plot(kind='line', title='Average % Capacity for Major Dams over time', figsize=(10,6), ylim=(0,1))"
   ]
  },
  {
   "cell_type": "code",
   "execution_count": 60,
   "metadata": {},
   "outputs": [
    {
     "data": {
      "text/plain": [
       "dam_name\n",
       "THEEWATERSKLOOF    0.185\n",
       "VOELVLEI           0.224\n",
       "STEENBRAS LOWER    0.508\n",
       "WEMMERSHOEK        0.518\n",
       "BERG RIVER         0.593\n",
       "STEENBRAS UPPER    0.950\n",
       "Name: percentage_capacity, dtype: float64"
      ]
     },
     "execution_count": 60,
     "metadata": {},
     "output_type": "execute_result"
    }
   ],
   "source": [
    "#We want to know which Major dams are currently doing best and worst. \n",
    "#Let's look at the current percentage capacity for Major dams.\n",
    "#We will need to have multiple filters (latest date and Major dam) and then group by dam name.\n",
    "\n",
    "# Create latest date in data\n",
    "latest_date = df.max()[0]\n",
    "\n",
    "# Latest percentage capacity per dam\n",
    "df[(df['t_date'] == latest_date) & (df['dam_class'] == 'Major Dam')]\\\n",
    ".groupby('dam_name')\\\n",
    ".mean()['percentage_capacity']\\\n",
    ".sort_values()\\"
   ]
  },
  {
   "cell_type": "code",
   "execution_count": 61,
   "metadata": {},
   "outputs": [
    {
     "data": {
      "text/plain": [
       "<matplotlib.axes._subplots.AxesSubplot at 0x225ed4b25c0>"
      ]
     },
     "execution_count": 61,
     "metadata": {},
     "output_type": "execute_result"
    },
    {
     "data": {
      "image/png": "[encoded data removed]",
      "text/plain": [
       "<matplotlib.figure.Figure at 0x225ed001f98>"
      ]
     },
     "metadata": {},
     "output_type": "display_data"
    }
   ],
   "source": [
    "#visualise the data using a horizontal barchart.\n",
    "df[(df['t_date'] == latest_date) & (df['dam_class'] == 'Major Dam')]\\\n",
    "    .groupby('dam_name')\\\n",
    "    .mean()['percentage_capacity']\\\n",
    "    .sort_values()\\\n",
    "    .plot(\n",
    "        kind='barh',\n",
    "        title='Current % Capacity for Major Dams',\n",
    "        figsize=(10,6),\n",
    "        ylim=(0,1))"
   ]
  },
  {
   "cell_type": "code",
   "execution_count": 62,
   "metadata": {},
   "outputs": [
    {
     "data": {
      "text/plain": [
       "Text(0.5,0.95,'Histogram of dam level capacity')"
      ]
     },
     "execution_count": 62,
     "metadata": {},
     "output_type": "execute_result"
    },
    {
     "data": {
      "image/png": "[encoded data removed]",
      "text/plain": [
       "<matplotlib.figure.Figure at 0x225ecfff3c8>"
      ]
     },
     "metadata": {},
     "output_type": "display_data"
    }
   ],
   "source": [
    "#looking at the Dam distribution level by using graph\n",
    "df[df['dam_class'] == 'Major Dam']['percentage_capacity']\\\n",
    "    .hist(figsize=(10,6))\n",
    "plt.suptitle('Histogram of dam level capacity', x=0.5, y=.95, ha='center', fontsize='x-large')"
   ]
  },
  {
   "cell_type": "code",
   "execution_count": 65,
   "metadata": {},
   "outputs": [
    {
     "data": {
      "text/plain": [
       "(array([0, 1, 2, 3, 4, 5]), <a list of 6 Text xticklabel objects>)"
      ]
     },
     "execution_count": 65,
     "metadata": {},
     "output_type": "execute_result"
    },
    {
     "data": {
      "image/png": "[encoded data removed]",
      "text/plain": [
       "<matplotlib.figure.Figure at 0x225edddfac8>"
      ]
     },
     "metadata": {},
     "output_type": "display_data"
    }
   ],
   "source": [
    "#use the box plot to analyse numerical variables by catagories \n",
    "fig, ax = plt.subplots(figsize=(10,10))\n",
    "sns.boxplot(\n",
    "    x='dam_name',\n",
    "    y='percentage_capacity',\n",
    "    data= df[df['dam_class'] == 'Major Dam'],\n",
    "    order=major_dam_order,\n",
    "    ax=ax)\n",
    "ax.set_title('Box Plots: Distribution of dam level by dam name')\n",
    "plt.grid(False)\n",
    "plt.xticks(rotation=90)"
   ]
  },
  {
   "cell_type": "code",
   "execution_count": 66,
   "metadata": {},
   "outputs": [
    {
     "data": {
      "text/html": [
       "<div>\n",
       "<style>\n",
       "    .dataframe thead tr:only-child th {\n",
       "        text-align: right;\n",
       "    }\n",
       "\n",
       "    .dataframe thead th {\n",
       "        text-align: left;\n",
       "    }\n",
       "\n",
       "    .dataframe tbody tr th {\n",
       "        vertical-align: top;\n",
       "    }\n",
       "</style>\n",
       "<table border=\"1\" class=\"dataframe\">\n",
       "  <thead>\n",
       "    <tr style=\"text-align: right;\">\n",
       "      <th></th>\n",
       "      <th>t_date</th>\n",
       "      <th>month_year</th>\n",
       "      <th>t_month</th>\n",
       "      <th>t_year</th>\n",
       "      <th>dam_name</th>\n",
       "      <th>dam_class</th>\n",
       "      <th>Max_dam_capacity_ML</th>\n",
       "      <th>height_m</th>\n",
       "      <th>storage_ml</th>\n",
       "      <th>percentage_capacity</th>\n",
       "    </tr>\n",
       "  </thead>\n",
       "  <tbody>\n",
       "    <tr>\n",
       "      <th>19728</th>\n",
       "      <td>01/01/2012</td>\n",
       "      <td>Jan-12</td>\n",
       "      <td>1</td>\n",
       "      <td>2012</td>\n",
       "      <td>THEEWATERSKLOOF</td>\n",
       "      <td>Major Dam</td>\n",
       "      <td>480188</td>\n",
       "      <td>24.83</td>\n",
       "      <td>357963.0</td>\n",
       "      <td>0.745</td>\n",
       "    </tr>\n",
       "    <tr>\n",
       "      <th>19729</th>\n",
       "      <td>02/01/2012</td>\n",
       "      <td>Jan-12</td>\n",
       "      <td>1</td>\n",
       "      <td>2012</td>\n",
       "      <td>THEEWATERSKLOOF</td>\n",
       "      <td>Major Dam</td>\n",
       "      <td>480188</td>\n",
       "      <td>24.80</td>\n",
       "      <td>356677.0</td>\n",
       "      <td>0.743</td>\n",
       "    </tr>\n",
       "    <tr>\n",
       "      <th>19730</th>\n",
       "      <td>03/01/2012</td>\n",
       "      <td>Jan-12</td>\n",
       "      <td>1</td>\n",
       "      <td>2012</td>\n",
       "      <td>THEEWATERSKLOOF</td>\n",
       "      <td>Major Dam</td>\n",
       "      <td>480188</td>\n",
       "      <td>24.77</td>\n",
       "      <td>355394.0</td>\n",
       "      <td>0.740</td>\n",
       "    </tr>\n",
       "    <tr>\n",
       "      <th>19731</th>\n",
       "      <td>04/01/2012</td>\n",
       "      <td>Jan-12</td>\n",
       "      <td>1</td>\n",
       "      <td>2012</td>\n",
       "      <td>THEEWATERSKLOOF</td>\n",
       "      <td>Major Dam</td>\n",
       "      <td>480188</td>\n",
       "      <td>24.73</td>\n",
       "      <td>353687.0</td>\n",
       "      <td>0.737</td>\n",
       "    </tr>\n",
       "    <tr>\n",
       "      <th>19732</th>\n",
       "      <td>05/01/2012</td>\n",
       "      <td>Jan-12</td>\n",
       "      <td>1</td>\n",
       "      <td>2012</td>\n",
       "      <td>THEEWATERSKLOOF</td>\n",
       "      <td>Major Dam</td>\n",
       "      <td>480188</td>\n",
       "      <td>24.67</td>\n",
       "      <td>351135.0</td>\n",
       "      <td>0.731</td>\n",
       "    </tr>\n",
       "  </tbody>\n",
       "</table>\n",
       "</div>"
      ],
      "text/plain": [
       "           t_date month_year  t_month  t_year         dam_name  dam_class  \\\n",
       "19728  01/01/2012     Jan-12        1    2012  THEEWATERSKLOOF  Major Dam   \n",
       "19729  02/01/2012     Jan-12        1    2012  THEEWATERSKLOOF  Major Dam   \n",
       "19730  03/01/2012     Jan-12        1    2012  THEEWATERSKLOOF  Major Dam   \n",
       "19731  04/01/2012     Jan-12        1    2012  THEEWATERSKLOOF  Major Dam   \n",
       "19732  05/01/2012     Jan-12        1    2012  THEEWATERSKLOOF  Major Dam   \n",
       "\n",
       "       Max_dam_capacity_ML  height_m  storage_ml  percentage_capacity  \n",
       "19728               480188     24.83    357963.0                0.745  \n",
       "19729               480188     24.80    356677.0                0.743  \n",
       "19730               480188     24.77    355394.0                0.740  \n",
       "19731               480188     24.73    353687.0                0.737  \n",
       "19732               480188     24.67    351135.0                0.731  "
      ]
     },
     "execution_count": 66,
     "metadata": {},
     "output_type": "execute_result"
    }
   ],
   "source": [
    "#Let's create a new dataframe called problem_dam and then only select entries from the Theewaterskloof dam.\n",
    "problem_dam = df[df['dam_name'] == 'THEEWATERSKLOOF']\n",
    "problem_dam.head()"
   ]
  },
  {
   "cell_type": "code",
   "execution_count": 69,
   "metadata": {},
   "outputs": [
    {
     "data": {
      "text/plain": [
       "t_date                      07/06/2017\n",
       "month_year                      Jun-17\n",
       "t_month                              6\n",
       "t_year                            2017\n",
       "dam_name               THEEWATERSKLOOF\n",
       "dam_class                    Major Dam\n",
       "Max_dam_capacity_ML             480188\n",
       "height_m                         13.47\n",
       "storage_ml                       64425\n",
       "percentage_capacity              0.134\n",
       "Name: 21712, dtype: object"
      ]
     },
     "execution_count": 69,
     "metadata": {},
     "output_type": "execute_result"
    }
   ],
   "source": [
    "#sort by percetage capacity (from lowest to highest) and then select the first entry using iloc[0].\n",
    "problem_dam.sort_values(by='percentage_capacity').iloc[0]"
   ]
  },
  {
   "cell_type": "code",
   "execution_count": 70,
   "metadata": {},
   "outputs": [
    {
     "data": {
      "text/plain": [
       "t_date                      31/12/2017\n",
       "month_year                      Dec-17\n",
       "t_month                             12\n",
       "t_year                            2017\n",
       "dam_name               THEEWATERSKLOOF\n",
       "dam_class                    Major Dam\n",
       "Max_dam_capacity_ML             480188\n",
       "height_m                         15.32\n",
       "storage_ml                       88717\n",
       "percentage_capacity              0.185\n",
       "Name: 21919, dtype: object"
      ]
     },
     "execution_count": 70,
     "metadata": {},
     "output_type": "execute_result"
    }
   ],
   "source": [
    "#looking at the latest date in the data\n",
    "problem_dam.sort_values(by='t_date', ascending=False).iloc[0]"
   ]
  },
  {
   "cell_type": "code",
   "execution_count": 71,
   "metadata": {},
   "outputs": [
    {
     "data": {
      "text/plain": [
       "<matplotlib.axes._subplots.AxesSubplot at 0x225edcfaeb8>"
      ]
     },
     "execution_count": 71,
     "metadata": {},
     "output_type": "execute_result"
    },
    {
     "data": {
      "image/png": "[encoded data removed]",
      "text/plain": [
       "<matplotlib.figure.Figure at 0x225edcfa7f0>"
      ]
     },
     "metadata": {},
     "output_type": "display_data"
    }
   ],
   "source": [
    "#checking how the percentage capacity over time looks like for the Theewaterskloof\n",
    "problem_dam.groupby('t_year').mean()['percentage_capacity']\\\n",
    ".plot(kind='line', title='Average % Capacity for Theewaterskloof over time', figsize=(10,6), ylim=(0,1))"
   ]
  },
  {
   "cell_type": "code",
   "execution_count": null,
   "metadata": {
    "collapsed": true
   },
   "outputs": [],
   "source": []
  }
 ],
 "metadata": {
  "kernelspec": {
   "display_name": "Python 3",
   "language": "python",
   "name": "python3"
  },
  "language_info": {
   "codemirror_mode": {
    "name": "ipython",
    "version": 3
   },
   "file_extension": ".py",
   "mimetype": "text/x-python",
   "name": "python",
   "nbconvert_exporter": "python",
   "pygments_lexer": "ipython3",
   "version": "3.6.3"
  }
 },
 "nbformat": 4,
 "nbformat_minor": 2
}
